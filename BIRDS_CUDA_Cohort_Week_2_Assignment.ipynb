{
  "nbformat": 4,
  "nbformat_minor": 0,
  "metadata": {
    "colab": {
      "provenance": []
    },
    "kernelspec": {
      "name": "python3",
      "display_name": "Python 3"
    },
    "language_info": {
      "name": "python"
    }
  },
  "cells": [
    {
      "cell_type": "markdown",
      "source": [
        "**Q1. Create a simple Python script that starts two threads; each thread should print numbers from 1 to 5 with a delay of 1 second between each number.**"
      ],
      "metadata": {
        "id": "3n714FyEdcaX"
      }
    },
    {
      "cell_type": "code",
      "execution_count": null,
      "metadata": {
        "id": "nxLk8gLmcx1_"
      },
      "outputs": [],
      "source": []
    },
    {
      "cell_type": "markdown",
      "source": [
        "**Q2. Write a Python program where two threads print alternating messages like \"Ping\" and \"Pong\" respectively.**"
      ],
      "metadata": {
        "id": "8IFT0vwhdhKe"
      }
    },
    {
      "cell_type": "code",
      "source": [],
      "metadata": {
        "id": "ozXZzwCsdhcu"
      },
      "execution_count": null,
      "outputs": []
    },
    {
      "cell_type": "markdown",
      "source": [
        "**Q3. Write a Python program using threads where a semaphore is used to limit access to a shared resource. For example, simulate a scenario where only a certain number of threads can write to a shared file at the same time. But feel free to choose any setting.**\n",
        "\n",
        "P.S. You can just copy-paste from the colab we used in the Session. But make sure you understand it!"
      ],
      "metadata": {
        "id": "8uewwr30fg-R"
      }
    },
    {
      "cell_type": "code",
      "source": [],
      "metadata": {
        "id": "RYdRBoA5fg1X"
      },
      "execution_count": null,
      "outputs": []
    },
    {
      "cell_type": "markdown",
      "source": [
        "**Q4. [OPTIONAL] Write a simple usecase of Mutex in C++. No need to run just dump the code in multiline comment below.**"
      ],
      "metadata": {
        "id": "OvP_fREcfgqc"
      }
    },
    {
      "cell_type": "code",
      "source": [
        "\"\"\"\n",
        "[C++ CODE GOES HERE]\n",
        "\"\"\""
      ],
      "metadata": {
        "id": "WeuCggdffgWH"
      },
      "execution_count": null,
      "outputs": []
    },
    {
      "cell_type": "markdown",
      "source": [
        "**Q5. [OPTIONAL] DINING PHILOSOPHER'S PROBLEM**\n",
        "\n",
        "* There are five philosophers sitting around a dining table.\n",
        "* Each philosopher thinks and eats spaghetti.\n",
        "* To eat, a philosopher must have two forks (one on the left and one on the right).\n",
        "* There is a single fork between each pair of adjacent philosophers.\n",
        "* Philosophers must pick up both forks to eat and put them down when they're done."
      ],
      "metadata": {
        "id": "nI9buA_Vd07A"
      }
    },
    {
      "cell_type": "code",
      "source": [],
      "metadata": {
        "id": "8z9a_qcfffZK"
      },
      "execution_count": null,
      "outputs": []
    }
  ]
}